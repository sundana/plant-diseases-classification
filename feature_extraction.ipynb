{
 "cells": [
  {
   "cell_type": "code",
   "execution_count": 1,
   "metadata": {},
   "outputs": [],
   "source": [
    "import cv2\n",
    "import os\n",
    "from dotenv import load_dotenv\n",
    "from tqdm import tqdm\n",
    "import numpy as np\n",
    "import pandas as pd"
   ]
  },
  {
   "cell_type": "code",
   "execution_count": 2,
   "metadata": {},
   "outputs": [],
   "source": [
    "load_dotenv()\n",
    "DATA_PATH = os.path.join(os.getcwd(), os.getenv('DATA_PATH'))"
   ]
  },
  {
   "cell_type": "code",
   "execution_count": 3,
   "metadata": {},
   "outputs": [],
   "source": [
    "imgs = []\n",
    "labels = []\n",
    "\n",
    "for folder in os.listdir(DATA_PATH):\n",
    "    for i, img in enumerate(os.listdir(os.path.join(DATA_PATH, folder))):\n",
    "        img = cv2.imread(os.path.join(DATA_PATH, folder, img))\n",
    "        imgs.append(img)\n",
    "        labels.append(folder)"
   ]
  },
  {
   "cell_type": "code",
   "execution_count": 4,
   "metadata": {},
   "outputs": [
    {
     "name": "stdout",
     "output_type": "stream",
     "text": [
      "Total gambar: 6844\n",
      "Jumlah kelas: 4\n",
      "\n",
      "\n",
      "Jumlah gambar pada masing-masing kelas\n",
      "-----------------------\n",
      "1 healthy ---> 1859 gambar\n",
      "2 Common_rust_ ---> 1907 gambar\n",
      "3 Northern_Leaf_Blight ---> 1436 gambar\n",
      "4 Gray_leaf_spot ---> 1642 gambar\n"
     ]
    }
   ],
   "source": [
    "print(f'Total gambar: {len(imgs)}\\nJumlah kelas: {len(os.listdir(DATA_PATH))}')\n",
    "print('\\n')\n",
    "print(f'Jumlah gambar pada masing-masing kelas\\n-----------------------')\n",
    "for i, label in enumerate(os.listdir(DATA_PATH)):\n",
    "    for _,_,files in os.walk(os.path.join(DATA_PATH, label)):\n",
    "        print(i+1, label.split('___')[1], '--->', len(files), 'gambar')"
   ]
  },
  {
   "cell_type": "markdown",
   "metadata": {},
   "source": [
    "# Komputasi Fitur"
   ]
  },
  {
   "cell_type": "code",
   "execution_count": 5,
   "metadata": {},
   "outputs": [],
   "source": [
    "from glcm import calc_glcm_all_agls\n",
    "\n",
    "def calculate_feature(images, labels):\n",
    "    # Kalkulasi GLCM\n",
    "    properties = ['dissimilarity', 'correlation', 'homogeneity', 'contrast', 'ASM', 'energy']\n",
    "    features = []\n",
    "    for img, label in zip(images, labels):\n",
    "        combined_features = []\n",
    "        glcm_features = calc_glcm_all_agls(img, label, props=properties)\n",
    "        features.append(glcm_features)\n",
    "\n",
    "    columns = []\n",
    "    angles = ['0', '45', '90', '135']\n",
    "    distances = [1, 2, 3, 4, 5]\n",
    "\n",
    "    for distance in distances:\n",
    "        for name in properties:\n",
    "            for ang in angles:\n",
    "                columns.append(f\"{name}_{distance}_{ang}\")\n",
    "\n",
    "    columns.append(\"label\")\n",
    "    \n",
    "    return features, columns"
   ]
  },
  {
   "cell_type": "code",
   "execution_count": 14,
   "metadata": {},
   "outputs": [],
   "source": [
    "features, columns = calculate_feature(imgs, labels)"
   ]
  },
  {
   "cell_type": "code",
   "execution_count": 17,
   "metadata": {},
   "outputs": [],
   "source": [
    "glcm_features = pd.DataFrame(features, columns=columns)\n",
    "glcm_features.to_csv('glcm_features.csv')"
   ]
  }
 ],
 "metadata": {
  "kernelspec": {
   "display_name": "venv",
   "language": "python",
   "name": "python3"
  },
  "language_info": {
   "codemirror_mode": {
    "name": "ipython",
    "version": 3
   },
   "file_extension": ".py",
   "mimetype": "text/x-python",
   "name": "python",
   "nbconvert_exporter": "python",
   "pygments_lexer": "ipython3",
   "version": "3.12.2"
  }
 },
 "nbformat": 4,
 "nbformat_minor": 2
}
